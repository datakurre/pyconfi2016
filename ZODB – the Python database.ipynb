{
 "cells": [
  {
   "cell_type": "markdown",
   "metadata": {},
   "source": [
    "# ZODB – the Python database"
   ]
  },
  {
   "cell_type": "markdown",
   "metadata": {},
   "source": [
    "## TaskList example\n",
    "\n",
    "* **Item** class: Task.\n",
    "* **Container** class: TaskList.\n",
    "* **Create** list with example tasks.\n",
    "* **Sort** and **list** tasks by deadline."
   ]
  },
  {
   "cell_type": "code",
   "execution_count": 1,
   "metadata": {
    "collapsed": false
   },
   "outputs": [],
   "source": [
    "import collections\n",
    "import datetime\n",
    "import uuid\n",
    "\n",
    "class Task(object):\n",
    "\n",
    "    def __init__(self, description, deadline):\n",
    "        self.description = description\n",
    "        self.deadline = deadline\n",
    "        self.completed = False\n",
    "\n",
    "    def __repr__(self):\n",
    "        return '\"{0:s}\"\\tby {1:s}'.format(\n",
    "            self.description, self.deadline.strftime('%Y-%m-%d @ %H:%M'))\n",
    "\n",
    "class TaskList(collections.UserDict):\n",
    "\n",
    "    def add(self, description, deadline):\n",
    "        self[str(uuid.uuid4())] = Task(description, deadline)"
   ]
  },
  {
   "cell_type": "code",
   "execution_count": 2,
   "metadata": {
    "collapsed": false
   },
   "outputs": [
    {
     "name": "stdout",
     "output_type": "stream",
     "text": [
      "\"Finish the slides\"\tby 2016-10-29 @ 23:55\n",
      "\"Read the latest news\"\tby 2016-10-30 @ 00:55\n",
      "\"Do the daily dishes\"\tby 2016-10-30 @ 01:55\n"
     ]
    }
   ],
   "source": [
    "import operator\n",
    "\n",
    "def expires_in(hours):\n",
    "    return datetime.datetime.now() + datetime.timedelta(hours/24.)\n",
    "\n",
    "tasks = TaskList()\n",
    "tasks.add('Do the daily dishes', expires_in(3))\n",
    "tasks.add('Read the latest news', expires_in(2))\n",
    "tasks.add('Finish the slides', expires_in(1))\n",
    "\n",
    "for task in sorted(tasks.values(), key=operator.attrgetter('deadline')):\n",
    "    if not task.completed:\n",
    "        print(task)"
   ]
  },
  {
   "cell_type": "markdown",
   "metadata": {},
   "source": [
    "## TaskList with ZODB support\n",
    "\n",
    "* Inherit classes from ``persistent.Persistent``.\n",
    "* Use ``persistent.list.PersistentList`` for mutable ``<list>``.\n",
    "* Use ``persistent.mapping.PersistentMapping`` for mutable ``<dict>``.\n",
    "* Use ``BTrees`` for storing data objects.\n",
    "* Use class variables to provide default attribute values."
   ]
  },
  {
   "cell_type": "code",
   "execution_count": 3,
   "metadata": {
    "collapsed": false
   },
   "outputs": [],
   "source": [
    "import BTrees\n",
    "import datetime\n",
    "import persistent\n",
    "import uuid\n",
    "\n",
    "class Task(persistent.Persistent):\n",
    "\n",
    "    def __init__(self, description, deadline):\n",
    "        self.description = description\n",
    "        self.deadline = deadline\n",
    "        self.completed = False\n",
    "\n",
    "    def __repr__(self):\n",
    "        return '\"{0:s}\"\\tby {1:s}'.format(\n",
    "            self.description, self.deadline.strftime('%Y-%m-%d @ %H:%M'))\n",
    "\n",
    "class TaskList(persistent.mapping.PersistentMapping):\n",
    "    \n",
    "    def __init__(self):\n",
    "        self.data = BTrees.OOBTree.OOBTree()\n",
    "\n",
    "    def add(self, description, deadline):\n",
    "        self[str(uuid.uuid4())] = Task(description, deadline)"
   ]
  },
  {
   "cell_type": "code",
   "execution_count": 4,
   "metadata": {
    "collapsed": false
   },
   "outputs": [
    {
     "name": "stdout",
     "output_type": "stream",
     "text": [
      "\"Finish the slides\"\tby 2016-10-29 @ 23:55\n",
      "\"Read the latest news\"\tby 2016-10-30 @ 00:55\n",
      "\"Do the daily dishes\"\tby 2016-10-30 @ 01:55\n"
     ]
    }
   ],
   "source": [
    "import operator\n",
    "\n",
    "def expires_in(hours):\n",
    "    return datetime.datetime.now() + datetime.timedelta(hours/24.)\n",
    "\n",
    "tasks = TaskList()\n",
    "tasks.add('Do the daily dishes', expires_in(3))\n",
    "tasks.add('Read the latest news', expires_in(2))\n",
    "tasks.add('Finish the slides', expires_in(1))\n",
    "\n",
    "for task in sorted(tasks.values(), key=operator.attrgetter('deadline')):\n",
    "    if not task.completed:\n",
    "        print(task)"
   ]
  },
  {
   "cell_type": "markdown",
   "metadata": {},
   "source": [
    "## TaskList with ZODB support – diff\n",
    "```diff\n",
    "@@ -1,9 +1,9 @@\n",
    "-import collections\n",
    "+import BTrees\n",
    " import datetime\n",
    "+import persistent\n",
    " import uuid\n",
    " \n",
    "-class Task(object):\n",
    "-\n",
    "+class Task(persistent.Persistent):\n",
    "     def __init__(self, description, deadline):\n",
    "         self.description = description\n",
    "         self.deadline = deadline\n",
    "@@ -13,7 +13,9 @@\n",
    "         return '\"{0:s}\"\\tby {1:s}'.format(\n",
    "             self.description, self.deadline.strftime('%Y-%m-%d @ %H:%M'))\n",
    " \n",
    "-class TaskList(collections.UserDict):\n",
    "+class TaskList(persistent.mapping.PersistentMapping):\n",
    "+    def __init__(self):\n",
    "+        self.data = BTrees.OOBTree.OOBTree()\n",
    " \n",
    "     def add(self, description, deadline):\n",
    "         self[str(uuid.uuid4())] = Task(description, deadline)\n",
    "```"
   ]
  },
  {
   "cell_type": "markdown",
   "metadata": {},
   "source": [
    "## Persisting TaskList with ZODB"
   ]
  },
  {
   "cell_type": "markdown",
   "metadata": {},
   "source": [
    "### Creating new ZODB\n",
    "\n",
    "1. Create / open / compose a **storage**.\n",
    "2. Wrap storage into a **database** (API and connection pool).\n",
    "3. Open a **connection**.\n",
    "4. Get the **root object**."
   ]
  },
  {
   "cell_type": "code",
   "execution_count": 5,
   "metadata": {
    "collapsed": false
   },
   "outputs": [],
   "source": [
    "import ZODB\n",
    "import ZODB.FileStorage\n",
    "\n",
    "ZODB_FILENAME = 'mydata.fs'\n",
    "\n",
    "storage = ZODB.FileStorage.FileStorage(ZODB_FILENAME)\n",
    "db = ZODB.DB(storage)\n",
    "connection = db.open()\n",
    "root = connection.root()"
   ]
  },
  {
   "cell_type": "markdown",
   "metadata": {},
   "source": [
    "### Analyzing empty ZODB\n",
    "\n",
    "* ``ZODB.FileStorage`` is an append-only log file of pickled objects."
   ]
  },
  {
   "cell_type": "code",
   "execution_count": 6,
   "metadata": {
    "collapsed": false
   },
   "outputs": [
    {
     "name": "stdout",
     "output_type": "stream",
     "text": [
      "Processed 1 records in 1 transactions\n",
      "Average record size is   68.00 bytes\n",
      "Average transaction size is   68.00 bytes\n",
      "Types used:\n",
      "Class Name                                       Count    TBytes    Pct AvgSize\n",
      "---------------------------------------------- ------- ---------  ----- -------\n",
      "persistent.mapping.PersistentMapping                 1        68 100.0%   68.00\n",
      "============================================== ======= =========  ===== =======\n",
      "                            Total Transactions       1                    0.07k\n",
      "                                 Total Records       1        0k 100.0%   68.00\n",
      "                               Current Objects       1        0k 100.0%   68.00\n"
     ]
    }
   ],
   "source": [
    "from ZODB.scripts import analyze\n",
    "analyze.report(analyze.analyze(ZODB_FILENAME))"
   ]
  },
  {
   "cell_type": "markdown",
   "metadata": {},
   "source": [
    "### Persisting TaskList\n",
    "\n",
    "* Objects must be reachable from the root object to persist.\n",
    "* The first persistable change implicitly starts a new **transaction**.\n",
    "* Transaction must be explicitly **committed** or **aborted**.\n",
    "* Mutating object persists a complete new revision of that object."
   ]
  },
  {
   "cell_type": "code",
   "execution_count": 7,
   "metadata": {
    "collapsed": false
   },
   "outputs": [],
   "source": [
    "root['tasks'] = TaskList()\n",
    "\n",
    "import transaction\n",
    "transaction.commit()"
   ]
  },
  {
   "cell_type": "code",
   "execution_count": 8,
   "metadata": {
    "collapsed": false
   },
   "outputs": [
    {
     "name": "stdout",
     "output_type": "stream",
     "text": [
      "Processed 4 records in 2 transactions\n",
      "Average record size is   74.75 bytes\n",
      "Average transaction size is  149.50 bytes\n",
      "Types used:\n",
      "Class Name                                       Count    TBytes    Pct AvgSize\n",
      "---------------------------------------------- ------- ---------  ----- -------\n",
      "BTrees.OOBTree.OOBTree                               1        33  11.0%   33.00\n",
      "__main__.TaskList                                    1        84  28.1%   84.00\n",
      "persistent.mapping.PersistentMapping                 2       182  60.9%   91.00\n",
      "============================================== ======= =========  ===== =======\n",
      "                            Total Transactions       2                    0.15k\n",
      "                                 Total Records       4        0k 100.0%   74.75\n",
      "                               Current Objects       3        0k  77.3%   77.00\n",
      "                                   Old Objects       1        0k  22.7%   68.00\n"
     ]
    }
   ],
   "source": [
    "from ZODB.scripts import analyze\n",
    "analyze.report(analyze.analyze(ZODB_FILENAME))"
   ]
  },
  {
   "cell_type": "markdown",
   "metadata": {},
   "source": [
    "### Purging old objects\n",
    "\n",
    "* ``ZODB.FileStorage`` is an append-only log file of pickled objects.\n",
    "* **Pack** will create new version of the storage with only current objects.\n",
    "* Pros: Save disk space and get faster startup. Cons: Lose history."
   ]
  },
  {
   "cell_type": "code",
   "execution_count": 9,
   "metadata": {
    "collapsed": false
   },
   "outputs": [],
   "source": [
    "import time\n",
    "import ZODB.FileStorage\n",
    "import ZODB.serialize\n",
    "\n",
    "storage = root._p_jar.db().storage\n",
    "storage.pack(time.time(), ZODB.serialize.referencesf)"
   ]
  },
  {
   "cell_type": "code",
   "execution_count": 10,
   "metadata": {
    "collapsed": false
   },
   "outputs": [
    {
     "name": "stdout",
     "output_type": "stream",
     "text": [
      "Processed 3 records in 1 transactions\n",
      "Average record size is   77.00 bytes\n",
      "Average transaction size is  231.00 bytes\n",
      "Types used:\n",
      "Class Name                                       Count    TBytes    Pct AvgSize\n",
      "---------------------------------------------- ------- ---------  ----- -------\n",
      "BTrees.OOBTree.OOBTree                               1        33  14.3%   33.00\n",
      "__main__.TaskList                                    1        84  36.4%   84.00\n",
      "persistent.mapping.PersistentMapping                 1       114  49.4%  114.00\n",
      "============================================== ======= =========  ===== =======\n",
      "                            Total Transactions       1                    0.23k\n",
      "                                 Total Records       3        0k 100.0%   77.00\n",
      "                               Current Objects       3        0k 100.0%   77.00\n"
     ]
    }
   ],
   "source": [
    "from ZODB.scripts import analyze\n",
    "analyze.report(analyze.analyze(ZODB_FILENAME))"
   ]
  },
  {
   "cell_type": "markdown",
   "metadata": {},
   "source": [
    "### Persisting Task objects\n",
    "\n",
    "* It just works."
   ]
  },
  {
   "cell_type": "code",
   "execution_count": 11,
   "metadata": {
    "collapsed": false
   },
   "outputs": [
    {
     "name": "stdout",
     "output_type": "stream",
     "text": [
      "\"Finish the slides\"\tby 2016-10-29 @ 23:55\n",
      "\"Read the latest news\"\tby 2016-10-30 @ 00:55\n",
      "\"Do the daily dishes\"\tby 2016-10-30 @ 01:55\n"
     ]
    }
   ],
   "source": [
    "import operator\n",
    "import transaction\n",
    "\n",
    "def expires_in(hours):\n",
    "    return datetime.datetime.now() + datetime.timedelta(hours/24.)\n",
    "\n",
    "tasks = root['tasks']\n",
    "tasks.add('Do the daily dishes', expires_in(3))\n",
    "tasks.add('Read the latest news', expires_in(2))\n",
    "tasks.add('Finish the slides', expires_in(1))\n",
    "\n",
    "transaction.commit()\n",
    "\n",
    "for task in sorted(tasks.values(), key=operator.attrgetter('deadline')):\n",
    "    if not task.completed:\n",
    "        print(task)"
   ]
  },
  {
   "cell_type": "code",
   "execution_count": 12,
   "metadata": {
    "collapsed": false,
    "scrolled": false
   },
   "outputs": [
    {
     "name": "stdout",
     "output_type": "stream",
     "text": [
      "Processed 8 records in 2 transactions\n",
      "Average record size is  124.00 bytes\n",
      "Average transaction size is  496.00 bytes\n",
      "Types used:\n",
      "Class Name                                       Count    TBytes    Pct AvgSize\n",
      "---------------------------------------------- ------- ---------  ----- -------\n",
      "BTrees.OOBTree.OOBTree                               2       276  27.8%  138.00\n",
      "__main__.Task                                        3       434  43.8%  144.67\n",
      "__main__.TaskList                                    2       168  16.9%   84.00\n",
      "persistent.mapping.PersistentMapping                 1       114  11.5%  114.00\n",
      "============================================== ======= =========  ===== =======\n",
      "                            Total Transactions       2                    0.48k\n",
      "                                 Total Records       8        0k 100.0%  124.00\n",
      "                               Current Objects       6        0k  88.2%  145.83\n",
      "                                   Old Objects       2        0k  11.8%   58.50\n"
     ]
    }
   ],
   "source": [
    "from ZODB.scripts import analyze\n",
    "analyze.report(analyze.analyze(ZODB_FILENAME))"
   ]
  },
  {
   "cell_type": "markdown",
   "metadata": {},
   "source": [
    "### Persisting Task objects – diff\n",
    "```diff\n",
    "@@ -1,13 +1,16 @@\n",
    " import operator\n",
    "+import transaction\n",
    " \n",
    " def expires_in(hours):\n",
    "     return datetime.datetime.now() + datetime.timedelta(hours/24.)\n",
    " \n",
    "-tasks = TaskList()\n",
    "+tasks = root['tasks']\n",
    " tasks.add('Do the daily dishes', expires_in(3))\n",
    " tasks.add('Read the latest news', expires_in(2))\n",
    " tasks.add('Finish the slides', expires_in(1))\n",
    " \n",
    "+transaction.commit()\n",
    "+\n",
    " for task in sorted(tasks.values(), key=operator.attrgetter('deadline')):\n",
    "     if not task.completed:\n",
    "         print(task)\n",
    "```"
   ]
  },
  {
   "cell_type": "markdown",
   "metadata": {},
   "source": [
    "### Mutating Task objects\n"
   ]
  },
  {
   "cell_type": "code",
   "execution_count": 13,
   "metadata": {
    "collapsed": false
   },
   "outputs": [
    {
     "name": "stdout",
     "output_type": "stream",
     "text": [
      "\"Finish the slides\"\tby 2016-10-29 @ 23:55\n",
      "\"Read the latest news\"\tby 2016-10-30 @ 00:55\n",
      "\"Do the daily dishes\"\tby 2016-10-30 @ 01:55\n"
     ]
    }
   ],
   "source": [
    "import random\n",
    "\n",
    "tasks = root['tasks']\n",
    "\n",
    "for task in tasks.keys():\n",
    "    if random.random() > 0.5:\n",
    "        tasks[task].completed = True\n",
    "\n",
    "transaction.commit()\n",
    "\n",
    "for task in sorted(tasks.values(), key=operator.attrgetter('deadline')):\n",
    "    if not task.completed:\n",
    "        print(task)"
   ]
  },
  {
   "cell_type": "markdown",
   "metadata": {},
   "source": [
    "### Deleting Task objects\n"
   ]
  },
  {
   "cell_type": "code",
   "execution_count": 14,
   "metadata": {
    "collapsed": false
   },
   "outputs": [
    {
     "name": "stdout",
     "output_type": "stream",
     "text": [
      "Deleted task 23b0bf55-9f48-4c43-b7ea-4e6ecb778524\n",
      "Deleted task 9db2bc75-ad28-48a5-afff-33cc06fba80e\n",
      "Deleted task d0609aa6-050b-4595-9a57-e2de809a0dc8\n"
     ]
    }
   ],
   "source": [
    "for key in tuple(tasks.keys()):\n",
    "    print('Deleted task {0:s}'.format(key))\n",
    "    del tasks[key]\n",
    "\n",
    "transaction.commit()"
   ]
  },
  {
   "cell_type": "code",
   "execution_count": 15,
   "metadata": {
    "collapsed": false
   },
   "outputs": [
    {
     "name": "stdout",
     "output_type": "stream",
     "text": [
      "Processed 10 records in 3 transactions\n",
      "Average record size is  110.90 bytes\n",
      "Average transaction size is  369.67 bytes\n",
      "Types used:\n",
      "Class Name                                       Count    TBytes    Pct AvgSize\n",
      "---------------------------------------------- ------- ---------  ----- -------\n",
      "BTrees.OOBTree.OOBTree                               3       309  27.9%  103.00\n",
      "__main__.Task                                        3       434  39.1%  144.67\n",
      "__main__.TaskList                                    3       252  22.7%   84.00\n",
      "persistent.mapping.PersistentMapping                 1       114  10.3%  114.00\n",
      "============================================== ======= =========  ===== =======\n",
      "                            Total Transactions       3                    0.36k\n",
      "                                 Total Records      10        1k 100.0%  110.90\n",
      "                               Current Objects       6        0k  60.0%  110.83\n",
      "                                   Old Objects       4        0k  40.0%  111.00\n"
     ]
    }
   ],
   "source": [
    "from ZODB.scripts import analyze\n",
    "analyze.report(analyze.analyze(ZODB_FILENAME))"
   ]
  },
  {
   "cell_type": "markdown",
   "metadata": {},
   "source": [
    "### Undoing transactions\n",
    "\n",
    "1. Get transaction timestamps from objects' ``_p_mtime``.\n",
    "2. Map timestamps to undoable ids from ``undoLog``.\n",
    "3. Undo (with fingers crossed).\n",
    "4. On failure, try again with revised transactions."
   ]
  },
  {
   "cell_type": "code",
   "execution_count": 16,
   "metadata": {
    "collapsed": false
   },
   "outputs": [],
   "source": [
    "for task in sorted(tasks.values(), key=operator.attrgetter('deadline')):\n",
    "    print(task, task.completed)"
   ]
  },
  {
   "cell_type": "code",
   "execution_count": 17,
   "metadata": {
    "collapsed": false
   },
   "outputs": [],
   "source": [
    "obj = root['tasks']\n",
    "info = db.undoInfo(specification=dict(time=obj._p_mtime))\n",
    "db.undoMultiple([info[0]['id']])\n",
    "transaction.commit()"
   ]
  },
  {
   "cell_type": "code",
   "execution_count": 18,
   "metadata": {
    "collapsed": false
   },
   "outputs": [
    {
     "name": "stdout",
     "output_type": "stream",
     "text": [
      "\"Finish the slides\"\tby 2016-10-29 @ 23:55 False\n",
      "\"Read the latest news\"\tby 2016-10-30 @ 00:55 False\n",
      "\"Do the daily dishes\"\tby 2016-10-30 @ 01:55 False\n"
     ]
    }
   ],
   "source": [
    "for task in sorted(tasks.values(), key=operator.attrgetter('deadline')):\n",
    "    print(task, task.completed)"
   ]
  },
  {
   "cell_type": "markdown",
   "metadata": {},
   "source": [
    "#### Undoing all undoable transaction at once\n"
   ]
  },
  {
   "cell_type": "code",
   "execution_count": 19,
   "metadata": {
    "collapsed": false
   },
   "outputs": [],
   "source": [
    "db.undoMultiple(map(operator.itemgetter('id'), db.undoLog()))\n",
    "transaction.commit()"
   ]
  },
  {
   "cell_type": "markdown",
   "metadata": {},
   "source": [
    "## Time travel with zc.beforestorage\n",
    "\n",
    "* ZODB storages can be wrapped (stacked) for additional features.\n",
    "* ``zc.beforestorage`` shows data as it was before given transaction or timestamp.\n",
    "* Get transaction ID from object's ``_p_serial``.\n",
    "* Or define timestamp in format ``2016-10-31T12:00``.\n"
   ]
  },
  {
   "cell_type": "code",
   "execution_count": 20,
   "metadata": {
    "collapsed": false
   },
   "outputs": [],
   "source": [
    "from zc.beforestorage import Before\n",
    "\n",
    "obj = root['tasks']\n",
    "\n",
    "before_storage = Before(storage, obj._p_serial)\n",
    "before_db = ZODB.DB(before_storage)\n",
    "before_connection = before_db.open()\n",
    "before_root = before_connection.root()"
   ]
  },
  {
   "cell_type": "code",
   "execution_count": 21,
   "metadata": {
    "collapsed": false
   },
   "outputs": [],
   "source": [
    "for task in sorted(before_root['tasks'].values(), key=operator.attrgetter('deadline')):\n",
    "    print(task, task.completed)"
   ]
  },
  {
   "cell_type": "markdown",
   "metadata": {},
   "source": [
    "## Indexing Tasks in ZODB\n",
    "\n",
    "* ZODB does not contain any indexing by its own (only oids).\n",
    "* It's possible, though not recommended, to create index objects in ZODB.\n",
    "* ``zope.index`` + ``repoze.catalog`` = ``hypatia``"
   ]
  },
  {
   "cell_type": "code",
   "execution_count": 22,
   "metadata": {
    "collapsed": false
   },
   "outputs": [],
   "source": [
    "import BTrees\n",
    "import datetime\n",
    "import persistent\n",
    "import uuid\n",
    "import hypatia.field\n",
    "\n",
    "class IndexedTaskList(persistent.mapping.PersistentMapping):\n",
    "        \n",
    "    def __init__(self, *args, **kwargs):\n",
    "        super().__init__(*args, **kwargs)\n",
    "        self.data = BTrees.OOBTree.OOBTree()\n",
    "        self.index = hypatia.field.FieldIndex('deadline')\n",
    "        \n",
    "\n",
    "    def add(self, description: str, deadline: datetime.datetime):\n",
    "        uid = str(uuid.uuid4())\n",
    "        task = Task(description, deadline)\n",
    "        self[uid] = task\n",
    "        \n",
    "        self._p_jar.add(task)                # reserve OID\n",
    "        docid = ZODB.utils.u64(task._p_oid)  # OID to DOCID int\n",
    "        self.index.index_doc(docid, task)    # index with DOCID ints"
   ]
  },
  {
   "cell_type": "code",
   "execution_count": 23,
   "metadata": {
    "collapsed": false
   },
   "outputs": [],
   "source": [
    "root['tasks'] = IndexedTaskList()\n",
    "transaction.commit()"
   ]
  },
  {
   "cell_type": "code",
   "execution_count": 24,
   "metadata": {
    "collapsed": false
   },
   "outputs": [
    {
     "name": "stdout",
     "output_type": "stream",
     "text": [
      "\"Finish the slides\"\tby 2016-10-29 @ 23:55\n",
      "\"Read the latest news\"\tby 2016-10-30 @ 00:55\n",
      "\"Do the daily dishes\"\tby 2016-10-30 @ 01:55\n"
     ]
    }
   ],
   "source": [
    "import operator\n",
    "import transaction\n",
    "\n",
    "tasks = root['tasks']\n",
    "tasks.add('Do the daily dishes', expires_in(3))\n",
    "tasks.add('Read the latest news', expires_in(2))\n",
    "tasks.add('Finish the slides', expires_in(1))\n",
    "\n",
    "transaction.commit()\n",
    "\n",
    "ids = tasks.index.indexed()             # indexed DOCID ints\n",
    "ids_sorted = tasks.index.sort(ids)      # sorted DOCID ints\n",
    "oids = map(ZODB.utils.p64, ids_sorted)  # docids to OIDs\n",
    "objs = map(connection.get, oids)        # OIDs to objects\n",
    "\n",
    "for task in objs:\n",
    "    if not task.completed:\n",
    "        print(task)"
   ]
  },
  {
   "cell_type": "markdown",
   "metadata": {
    "collapsed": true
   },
   "source": [
    "## Resetting the example\n",
    "\n",
    "1. Close open connections.\n",
    "2. Close open storages.\n",
    "3. Remove filestorage."
   ]
  },
  {
   "cell_type": "code",
   "execution_count": 25,
   "metadata": {
    "collapsed": false
   },
   "outputs": [],
   "source": [
    "import os\n",
    "\n",
    "ZODB_FILENAME = 'mydata.fs'\n",
    "\n",
    "if 'connection' in locals():\n",
    "    connection.transaction_manager.get().abort()\n",
    "    connection.close()\n",
    "    \n",
    "if 'storage' in locals():\n",
    "    storage.close()"
   ]
  },
  {
   "cell_type": "code",
   "execution_count": 26,
   "metadata": {
    "collapsed": true
   },
   "outputs": [],
   "source": [
    "if os.path.exists(ZODB_FILENAME):\n",
    "    os.unlink(ZODB_FILENAME)"
   ]
  }
 ],
 "metadata": {
  "kernelspec": {
   "display_name": "Python 3.5",
   "language": "python",
   "name": "python35"
  },
  "language_info": {
   "codemirror_mode": {
    "name": "ipython",
    "version": 3
   },
   "file_extension": ".py",
   "mimetype": "text/x-python",
   "name": "python",
   "nbconvert_exporter": "python",
   "pygments_lexer": "ipython3",
   "version": "3.5.2"
  }
 },
 "nbformat": 4,
 "nbformat_minor": 0
}
